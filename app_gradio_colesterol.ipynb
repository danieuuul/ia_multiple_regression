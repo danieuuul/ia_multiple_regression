{
 "cells": [
  {
   "cell_type": "code",
   "execution_count": 14,
   "metadata": {},
   "outputs": [],
   "source": [
    "import gradio as gr\n",
    "import pandas as pd\n",
    "import joblib\n",
    "\n",
    "model = joblib.load('./model_colesterol_multiple_regression.pkl')\n",
    "\n",
    "def predict_colesterol(idade, altura, peso, nivel_atividade_fisica, fumante, grupo_sanguineo):\n",
    "  df = pd.DataFrame({'idade': idade, 'altura': altura, 'peso': peso, 'nivel_atividade_fisica': nivel_atividade_fisica, 'fumante': 'Sim' if fumante else 'Não', 'grupo_sanguineo': grupo_sanguineo}, index=[0])\n",
    "  return model.predict(df)[0]"
   ]
  },
  {
   "cell_type": "code",
   "execution_count": 15,
   "metadata": {},
   "outputs": [],
   "source": [
    "# Creating the interface\n",
    "\n",
    "demo = gr.Interface(\n",
    "  fn=predict_colesterol,\n",
    "  inputs=[\n",
    "    gr.Slider(minimum=20, maximum=80, step=1, value=\"40\", label=\"Idade\"),\n",
    "    gr.Slider(minimum=150, maximum=200, step=1, value=170, label=\"Altura\"),\n",
    "    gr.Slider(minimum=40, maximum=160, step=0.1, value=70, label=\"Peso\"),\n",
    "    gr.Radio(label=\"Nível de atividade física\", value=\"Moderado\" , choices=[\"Baixo\", \"Moderado\", \"Alto\"]),\n",
    "    gr.Checkbox(label=\"Fumante\", value=False),\n",
    "    gr.Radio(label=\"Grupo sanguíneo\", choices=[\"A\", \"B\", \"AB\", \"O\"])\n",
    "  ],\n",
    "  outputs=['number']\n",
    ")"
   ]
  },
  {
   "cell_type": "code",
   "execution_count": 16,
   "metadata": {},
   "outputs": [
    {
     "name": "stdout",
     "output_type": "stream",
     "text": [
      "Running on local URL:  http://127.0.0.1:7863\n",
      "\n",
      "Could not create share link. Please check your internet connection or our status page: https://status.gradio.app.\n"
     ]
    },
    {
     "data": {
      "text/html": [
       "<div><iframe src=\"http://127.0.0.1:7863/\" width=\"100%\" height=\"500\" allow=\"autoplay; camera; microphone; clipboard-read; clipboard-write;\" frameborder=\"0\" allowfullscreen></iframe></div>"
      ],
      "text/plain": [
       "<IPython.core.display.HTML object>"
      ]
     },
     "metadata": {},
     "output_type": "display_data"
    },
    {
     "data": {
      "text/plain": []
     },
     "execution_count": 16,
     "metadata": {},
     "output_type": "execute_result"
    }
   ],
   "source": [
    "# Launching the interface\n",
    "demo.launch(share=True)"
   ]
  }
 ],
 "metadata": {
  "kernelspec": {
   "display_name": "ia_multiple_regression-q3EKfS5J",
   "language": "python",
   "name": "python3"
  },
  "language_info": {
   "codemirror_mode": {
    "name": "ipython",
    "version": 3
   },
   "file_extension": ".py",
   "mimetype": "text/x-python",
   "name": "python",
   "nbconvert_exporter": "python",
   "pygments_lexer": "ipython3",
   "version": "3.12.0"
  }
 },
 "nbformat": 4,
 "nbformat_minor": 2
}
